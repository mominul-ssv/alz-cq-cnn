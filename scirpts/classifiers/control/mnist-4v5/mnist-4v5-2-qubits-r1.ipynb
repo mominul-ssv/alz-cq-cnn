{
 "cells": [
  {
   "cell_type": "code",
   "execution_count": 1,
   "metadata": {},
   "outputs": [],
   "source": [
    "# standard libraries\n",
    "import os\n",
    "import csv\n",
    "import random\n",
    "import timeit\n",
    "import shutil\n",
    "import numpy as np\n",
    "import pandas as pd\n",
    "import seaborn as sns\n",
    "from tqdm import tqdm\n",
    "from PIL import Image\n",
    "\n",
    "# scikit-learn libraries\n",
    "from sklearn.metrics import (\n",
    "    roc_curve, \n",
    "    auc,\n",
    "    roc_auc_score,\n",
    "    precision_score,\n",
    "    recall_score,\n",
    "    f1_score,\n",
    "    accuracy_score,\n",
    "    classification_report,\n",
    "    confusion_matrix,\n",
    "    RocCurveDisplay\n",
    ")\n",
    "\n",
    "# plotting libraries\n",
    "import matplotlib.pyplot as plt\n",
    "import matplotlib.ticker as mticker\n",
    "%matplotlib inline\n",
    "\n",
    "# pytorch libraries\n",
    "import torch\n",
    "from torch import cat\n",
    "from torch import no_grad\n",
    "import torch.nn as nn\n",
    "import torch.nn.functional as F\n",
    "import torch.optim as optim\n",
    "from torchsummary import summary\n",
    "from torchvision import datasets\n",
    "import torchvision.transforms as transforms\n",
    "from torch.utils.data import DataLoader, Dataset\n",
    "\n",
    "# qiskit libraries\n",
    "from qiskit import QuantumCircuit\n",
    "from qiskit.circuit.library import RealAmplitudes, ZZFeatureMap\n",
    "from qiskit_machine_learning.neural_networks import EstimatorQNN\n",
    "from qiskit_machine_learning.connectors import TorchConnector\n",
    "from qiskit.primitives import StatevectorEstimator as Estimator"
   ]
  },
  {
   "cell_type": "code",
   "execution_count": 2,
   "metadata": {},
   "outputs": [
    {
     "name": "stdout",
     "output_type": "stream",
     "text": [
      "Downloading http://yann.lecun.com/exdb/mnist/train-images-idx3-ubyte.gz\n",
      "Failed to download (trying next):\n",
      "HTTP Error 404: Not Found\n",
      "\n",
      "Downloading https://ossci-datasets.s3.amazonaws.com/mnist/train-images-idx3-ubyte.gz\n",
      "Downloading https://ossci-datasets.s3.amazonaws.com/mnist/train-images-idx3-ubyte.gz to ./data\\MNIST\\raw\\train-images-idx3-ubyte.gz\n"
     ]
    },
    {
     "name": "stderr",
     "output_type": "stream",
     "text": [
      "100%|████████████████████████████████████████████████████████████████████████████████████████████████████| 9.91M/9.91M [00:05<00:00, 1.89MB/s]\n"
     ]
    },
    {
     "name": "stdout",
     "output_type": "stream",
     "text": [
      "Extracting ./data\\MNIST\\raw\\train-images-idx3-ubyte.gz to ./data\\MNIST\\raw\n",
      "\n",
      "Downloading http://yann.lecun.com/exdb/mnist/train-labels-idx1-ubyte.gz\n",
      "Failed to download (trying next):\n",
      "HTTP Error 404: Not Found\n",
      "\n",
      "Downloading https://ossci-datasets.s3.amazonaws.com/mnist/train-labels-idx1-ubyte.gz\n",
      "Downloading https://ossci-datasets.s3.amazonaws.com/mnist/train-labels-idx1-ubyte.gz to ./data\\MNIST\\raw\\train-labels-idx1-ubyte.gz\n"
     ]
    },
    {
     "name": "stderr",
     "output_type": "stream",
     "text": [
      "100%|█████████████████████████████████████████████████████████████████████████████████████████████████████| 28.9k/28.9k [00:00<00:00, 115kB/s]\n"
     ]
    },
    {
     "name": "stdout",
     "output_type": "stream",
     "text": [
      "Extracting ./data\\MNIST\\raw\\train-labels-idx1-ubyte.gz to ./data\\MNIST\\raw\n",
      "\n",
      "Downloading http://yann.lecun.com/exdb/mnist/t10k-images-idx3-ubyte.gz\n",
      "Failed to download (trying next):\n",
      "HTTP Error 404: Not Found\n",
      "\n",
      "Downloading https://ossci-datasets.s3.amazonaws.com/mnist/t10k-images-idx3-ubyte.gz\n",
      "Downloading https://ossci-datasets.s3.amazonaws.com/mnist/t10k-images-idx3-ubyte.gz to ./data\\MNIST\\raw\\t10k-images-idx3-ubyte.gz\n"
     ]
    },
    {
     "name": "stderr",
     "output_type": "stream",
     "text": [
      "100%|████████████████████████████████████████████████████████████████████████████████████████████████████| 1.65M/1.65M [00:01<00:00, 1.03MB/s]\n"
     ]
    },
    {
     "name": "stdout",
     "output_type": "stream",
     "text": [
      "Extracting ./data\\MNIST\\raw\\t10k-images-idx3-ubyte.gz to ./data\\MNIST\\raw\n",
      "\n",
      "Downloading http://yann.lecun.com/exdb/mnist/t10k-labels-idx1-ubyte.gz\n",
      "Failed to download (trying next):\n",
      "HTTP Error 404: Not Found\n",
      "\n",
      "Downloading https://ossci-datasets.s3.amazonaws.com/mnist/t10k-labels-idx1-ubyte.gz\n",
      "Downloading https://ossci-datasets.s3.amazonaws.com/mnist/t10k-labels-idx1-ubyte.gz to ./data\\MNIST\\raw\\t10k-labels-idx1-ubyte.gz\n"
     ]
    },
    {
     "name": "stderr",
     "output_type": "stream",
     "text": [
      "100%|████████████████████████████████████████████████████████████████████████████████████████████████████████████| 4.54k/4.54k [00:00<?, ?B/s]\n"
     ]
    },
    {
     "name": "stdout",
     "output_type": "stream",
     "text": [
      "Extracting ./data\\MNIST\\raw\\t10k-labels-idx1-ubyte.gz to ./data\\MNIST\\raw\n",
      "\n",
      "Sampled ~10% of MNIST 4 and 5 images saved as PNGs!\n",
      "Deleted ./data directory after saving images.\n"
     ]
    }
   ],
   "source": [
    "base_dir = '../../../../datasets/MNIST/4v5'\n",
    "to_pil = transforms.ToPILImage()\n",
    "\n",
    "def is_mnist_already_saved(base_dir):\n",
    "    return os.path.exists(base_dir) and any(os.scandir(base_dir))\n",
    "\n",
    "if is_mnist_already_saved(base_dir):\n",
    "    print(\"Data already exists at\", base_dir)\n",
    "else:\n",
    "    train_dataset = datasets.MNIST(root='./data', train=True, download=True)\n",
    "    test_dataset = datasets.MNIST(root='./data', train=False, download=True)\n",
    "\n",
    "    def save_images(dataset, split='train', classes_to_save=[2,3], sample_frac=0.1):\n",
    "        filtered_indices = [i for i, (_, label) in enumerate(dataset) if label in classes_to_save]\n",
    "        sample_size = int(len(filtered_indices) * sample_frac)\n",
    "        sampled_indices = set(random.sample(filtered_indices, sample_size))\n",
    "\n",
    "        for idx, (image, label) in enumerate(dataset):\n",
    "            if idx not in sampled_indices:\n",
    "                continue\n",
    "            \n",
    "            label_dir = os.path.join(base_dir, split, str(label))\n",
    "            os.makedirs(label_dir, exist_ok=True)\n",
    "\n",
    "            if isinstance(image, torch.Tensor):\n",
    "                image = to_pil(image)\n",
    "\n",
    "            image.save(os.path.join(label_dir, f\"{idx}.png\"))\n",
    "\n",
    "    save_images(train_dataset, 'train')\n",
    "    save_images(test_dataset, 'test')\n",
    "\n",
    "    print(\"Sampled ~10% of MNIST 4 and 5 images saved as PNGs!\")\n",
    "\n",
    "    shutil.rmtree('./data', ignore_errors=True)\n",
    "    print(\"Deleted ./data directory after saving images.\")"
   ]
  },
  {
   "cell_type": "code",
   "execution_count": 3,
   "metadata": {},
   "outputs": [],
   "source": [
    "# Set parameters\n",
    "BATCH_SIZE = 16\n",
    "IMAGE_SIZE = 28\n",
    "LEARNING_RATE = 0.001\n",
    "EPOCHS = 5\n",
    "NUM_OF_QUBITS = 2"
   ]
  },
  {
   "cell_type": "code",
   "execution_count": 4,
   "metadata": {},
   "outputs": [],
   "source": [
    "class CustomDataset(Dataset):\n",
    "    def __init__(self, base_path, image_size, mode):\n",
    "        self.image_tensors = []\n",
    "        self.labels = []\n",
    "\n",
    "        # Set random seed for reproducibility\n",
    "        random.seed(42)\n",
    "\n",
    "        # Define transformations: resize to 128x128 and convert to tensor\n",
    "        self.transform = transforms.Compose([transforms.Resize((image_size, image_size)), transforms.ToTensor()])\n",
    "        \n",
    "        # Define the label mapping\n",
    "        self.label_mapping = {\n",
    "            '2': 0,\n",
    "            '3': 1\n",
    "        }\n",
    "\n",
    "        # Load images and labels\n",
    "        self.load_images(base_path, image_size, mode)\n",
    "\n",
    "    def load_images(self, base_path, image_size, mode):\n",
    "        total_images = sum([len([img for img in os.listdir(os.path.join(base_path, class_name)) if img.endswith(('png', 'jpg', 'jpeg'))]) \n",
    "                            for class_name in os.listdir(base_path) if os.path.isdir(os.path.join(base_path, class_name))])\n",
    "\n",
    "        # Create a tqdm progress bar for the overall process\n",
    "        with tqdm(total=total_images, desc=f\"Loading and processing {mode} images\", position=0, ncols=100) as pbar:\n",
    "            # Loop through each class folder\n",
    "            for class_name in os.listdir(base_path):\n",
    "                class_path = os.path.join(base_path, class_name)\n",
    "                if os.path.isdir(class_path) and class_name in self.label_mapping:\n",
    "                    images = [os.path.join(class_path, img) for img in os.listdir(class_path) if img.endswith(('png', 'jpg', 'jpeg'))]\n",
    "                    \n",
    "                    # Load and convert images to tensors\n",
    "                    for img_path in images:\n",
    "                        image = Image.open(img_path).convert('L')  # Convert to grayscale\n",
    "                        if self.transform:\n",
    "                            image = self.transform(image)  # Apply transformations\n",
    "                        self.image_tensors.append(image)\n",
    "                        self.labels.append(self.label_mapping[class_name])  # Use the mapped label\n",
    "                        pbar.update(1)  # Update the progress bar after each image\n",
    "\n",
    "    def __len__(self):\n",
    "        return len(self.image_tensors)\n",
    "\n",
    "    def __getitem__(self, idx):\n",
    "        return self.image_tensors[idx], self.labels[idx]"
   ]
  },
  {
   "cell_type": "code",
   "execution_count": 5,
   "metadata": {},
   "outputs": [
    {
     "name": "stderr",
     "output_type": "stream",
     "text": [
      "Loading and processing train images: 100%|█████████████████████| 1208/1208 [00:05<00:00, 206.75it/s]\n",
      "Loading and processing test images: 100%|████████████████████████| 204/204 [00:01<00:00, 200.05it/s]\n"
     ]
    }
   ],
   "source": [
    "train_path = '../../../../datasets/MNIST/4v5/train'\n",
    "test_path = '../../../../datasets/MNIST/4v5/test'\n",
    "\n",
    "# Create dataset instances\n",
    "train_dataset = CustomDataset(train_path, IMAGE_SIZE, mode='train')\n",
    "test_dataset = CustomDataset(test_path, IMAGE_SIZE, mode='test')"
   ]
  },
  {
   "cell_type": "code",
   "execution_count": 6,
   "metadata": {},
   "outputs": [
    {
     "name": "stdout",
     "output_type": "stream",
     "text": [
      "torch.Size([16, 1, 28, 28])\n",
      "tensor([1, 0, 1, 1, 0, 1, 0, 0, 1, 0, 1, 1, 1, 0, 1, 0])\n"
     ]
    }
   ],
   "source": [
    "# Define DataLoaders\n",
    "train_loader = DataLoader(train_dataset, batch_size=BATCH_SIZE, shuffle=True)\n",
    "test_loader = DataLoader(test_dataset, batch_size=int(BATCH_SIZE/4), shuffle=True)\n",
    "\n",
    "# Example usage\n",
    "for images, labels in train_loader:\n",
    "    print(images.shape)  # Shape of the images tensor\n",
    "    print(labels)        # Shape of the labels tensor\n",
    "    break                # Just to check the first batch"
   ]
  },
  {
   "cell_type": "code",
   "execution_count": 7,
   "metadata": {},
   "outputs": [
    {
     "data": {
      "image/png": "[encoded data removed]",
      "text/plain": [
       "<Figure size 600x300 with 4 Axes>"
      ]
     },
     "metadata": {},
     "output_type": "display_data"
    }
   ],
   "source": [
    "samples = 4\n",
    "\n",
    "indices = [50, 100, 150, 200]\n",
    "\n",
    "fig, axes = plt.subplots(1, 4, figsize=(6, 3))\n",
    "axes = axes.flatten()\n",
    "\n",
    "for ax, idx in zip(axes, indices):\n",
    "    image, label = train_dataset[idx]\n",
    "    ax.imshow(image.squeeze(0), cmap='gray')  # Remove channel dimension for display\n",
    "    ax.set_title(f'{list(train_dataset.label_mapping.keys())[label]}', fontsize='8')\n",
    "    ax.axis('off')\n",
    "\n",
    "plt.tight_layout()\n",
    "plt.show()"
   ]
  },
  {
   "cell_type": "code",
   "execution_count": 8,
   "metadata": {},
   "outputs": [
    {
     "name": "stderr",
     "output_type": "stream",
     "text": [
      "No gradient function provided, creating a gradient function. If your Estimator requires transpilation, please provide a pass manager.\n"
     ]
    }
   ],
   "source": [
    "# Define and create QNN\n",
    "def create_qnn(n_qubits):\n",
    "    \n",
    "    feature_map = ZZFeatureMap(n_qubits)\n",
    "    ansatz = RealAmplitudes(n_qubits, reps=1)\n",
    "    \n",
    "    qc = QuantumCircuit(n_qubits)\n",
    "    qc.compose(feature_map, inplace=True)\n",
    "    qc.compose(ansatz, inplace=True)\n",
    "\n",
    "    estimator = Estimator()\n",
    "    \n",
    "    qnn = EstimatorQNN(\n",
    "        circuit=qc,\n",
    "        input_params=feature_map.parameters,\n",
    "        weight_params=ansatz.parameters,\n",
    "        input_gradients=True,\n",
    "        estimator=estimator\n",
    "    )\n",
    "    return qnn, qc\n",
    "\n",
    "qnn, qc = create_qnn(NUM_OF_QUBITS)"
   ]
  },
  {
   "cell_type": "code",
   "execution_count": 9,
   "metadata": {},
   "outputs": [
    {
     "data": {
      "image/png": "[encoded data removed]",
      "text/plain": [
       "<Figure size 621.739x200.667 with 1 Axes>"
      ]
     },
     "execution_count": 9,
     "metadata": {},
     "output_type": "execute_result"
    },
    {
     "data": {
      "image/png": "[encoded data removed]",
      "text/plain": [
       "<Figure size 621.739x200.667 with 1 Axes>"
      ]
     },
     "metadata": {},
     "output_type": "display_data"
    }
   ],
   "source": [
    "qc.draw(output=\"mpl\")"
   ]
  },
  {
   "cell_type": "code",
   "execution_count": 10,
   "metadata": {},
   "outputs": [
    {
     "data": {
      "image/png": "[encoded data removed]",
      "text/plain": [
       "<Figure size 1541.46x200.667 with 1 Axes>"
      ]
     },
     "execution_count": 10,
     "metadata": {},
     "output_type": "execute_result"
    },
    {
     "data": {
      "image/png": "[encoded data removed]",
      "text/plain": [
       "<Figure size 1541.46x200.667 with 1 Axes>"
      ]
     },
     "metadata": {},
     "output_type": "display_data"
    }
   ],
   "source": [
    "qc.decompose().draw(output=\"mpl\", style=\"bw\")"
   ]
  },
  {
   "cell_type": "code",
   "execution_count": 11,
   "metadata": {},
   "outputs": [],
   "source": [
    "class Net(nn.Module):\n",
    "    def __init__(self, qnn, image_size, n_qubits):\n",
    "        super().__init__()\n",
    "        self.image_size = image_size\n",
    "        self.conv1 = nn.Conv2d(in_channels=1, out_channels=2, kernel_size=5)\n",
    "        self.conv2 = nn.Conv2d(in_channels=2, out_channels=24, kernel_size=5)\n",
    "        self.dropout = nn.Dropout2d()\n",
    "        \n",
    "        # Compute the size of the feature map after convolutions and pooling\n",
    "        size_after_conv1 = (image_size - 5 + 1) // 2  # kernel=5, stride=1, pool=2\n",
    "        size_after_conv2 = (size_after_conv1 - 5 + 1) // 2  # kernel=5, stride=1, pool=2\n",
    "        \n",
    "        # Calculate the flattened size for fc2\n",
    "        self.flattened_size = 24 * size_after_conv2 * size_after_conv2\n",
    "        \n",
    "        # Fully connected layers\n",
    "        self.fc1 = nn.Linear(self.flattened_size, 128)\n",
    "        self.fc2 = nn.Linear(128, n_qubits)  \n",
    "        self.qnn = TorchConnector(qnn)\n",
    "        self.fc3 = nn.Linear(1, 1)\n",
    "\n",
    "    def forward(self, x):\n",
    "        x = F.relu(self.conv1(x))\n",
    "        x = F.max_pool2d(x, 2)\n",
    "        x = F.relu(self.conv2(x))\n",
    "        x = F.max_pool2d(x, 2)\n",
    "        x = self.dropout(x)\n",
    "        x = x.view(x.shape[0], -1)\n",
    "        x = F.relu(self.fc1(x))\n",
    "        x = self.fc2(x)\n",
    "        x = self.qnn(x)  # apply QNN\n",
    "        x = self.fc3(x)\n",
    "        x = cat((x, 1 - x), -1)\n",
    "        return x\n",
    "\n",
    "model = Net(qnn, IMAGE_SIZE, NUM_OF_QUBITS)"
   ]
  },
  {
   "cell_type": "code",
   "execution_count": 12,
   "metadata": {},
   "outputs": [
    {
     "name": "stdout",
     "output_type": "stream",
     "text": [
      "----------------------------------------------------------------\n",
      "        Layer (type)               Output Shape         Param #\n",
      "================================================================\n",
      "            Conv2d-1            [-1, 2, 24, 24]              52\n",
      "            Conv2d-2             [-1, 24, 8, 8]           1,224\n",
      "         Dropout2d-3             [-1, 24, 4, 4]               0\n",
      "            Linear-4                  [-1, 128]          49,280\n",
      "            Linear-5                    [-1, 2]             258\n",
      "    TorchConnector-6                    [-1, 1]               4\n",
      "            Linear-7                    [-1, 1]               2\n",
      "================================================================\n",
      "Total params: 50,820\n",
      "Trainable params: 50,820\n",
      "Non-trainable params: 0\n",
      "----------------------------------------------------------------\n",
      "Input size (MB): 0.00\n",
      "Forward/backward pass size (MB): 0.02\n",
      "Params size (MB): 0.19\n",
      "Estimated Total Size (MB): 0.22\n",
      "----------------------------------------------------------------\n"
     ]
    }
   ],
   "source": [
    "summary(model, (1, IMAGE_SIZE, IMAGE_SIZE))"
   ]
  },
  {
   "cell_type": "code",
   "execution_count": 13,
   "metadata": {},
   "outputs": [],
   "source": [
    "# Define model, optimizer, and loss function\n",
    "optimizer = optim.Adam(model.parameters(), lr=LEARNING_RATE)\n",
    "loss_func = nn.CrossEntropyLoss()  "
   ]
  },
  {
   "cell_type": "code",
   "execution_count": 14,
   "metadata": {},
   "outputs": [],
   "source": [
    "# Callback classes/functions\n",
    "class ReduceLROnPlateau:\n",
    "    def __init__(self, optimizer, factor=0.7, patience=3, min_lr=1e-6, verbose=1):\n",
    "        self.optimizer = optimizer\n",
    "        self.factor = factor\n",
    "        self.patience = patience\n",
    "        self.min_lr = min_lr\n",
    "        self.verbose = verbose\n",
    "        self.best_loss = float('inf')\n",
    "        self.wait = 0\n",
    "\n",
    "    def step(self, val_loss):\n",
    "        if val_loss < self.best_loss:\n",
    "            self.best_loss = val_loss\n",
    "            self.wait = 0\n",
    "        else:\n",
    "            self.wait += 1\n",
    "            if self.wait >= self.patience:\n",
    "                for param_group in self.optimizer.param_groups:\n",
    "                    new_lr = max(param_group['lr'] * self.factor, self.min_lr)\n",
    "                    param_group['lr'] = new_lr\n",
    "                if self.verbose:\n",
    "                    print(f\"Reducing learning rate to {new_lr:.6f}\")\n",
    "                self.wait = 0\n",
    "\n",
    "class ModelCheckpoint:\n",
    "    def __init__(self, filepath, monitor='val_loss', save_best_only=True, mode='min'):\n",
    "        self.filepath = filepath\n",
    "        self.monitor = monitor\n",
    "        self.save_best_only = save_best_only\n",
    "        self.mode = mode\n",
    "        self.best = float('inf') if mode == 'min' else -float('inf')\n",
    "\n",
    "    def step(self, val_loss):\n",
    "        if self.save_best_only:\n",
    "            if (self.mode == 'min' and val_loss < self.best) or (self.mode == 'max' and val_loss > self.best):\n",
    "                self.best = val_loss\n",
    "                torch.save(model.state_dict(), self.filepath)\n",
    "\n",
    "class CSVLogger:\n",
    "    def __init__(self, filename):\n",
    "        self.filename = filename\n",
    "        with open(self.filename, mode='w', newline='') as f:\n",
    "            writer = csv.writer(f)\n",
    "            writer.writerow(['epoch', 'train_loss', 'train_accuracy', 'val_loss', 'val_accuracy'])\n",
    "\n",
    "    def log(self, epoch, train_loss, train_accuracy, val_loss, val_accuracy):\n",
    "        with open(self.filename, mode='a', newline='') as f:\n",
    "            writer = csv.writer(f)\n",
    "            writer.writerow([epoch, train_loss, train_accuracy, val_loss, val_accuracy])"
   ]
  },
  {
   "cell_type": "code",
   "execution_count": 15,
   "metadata": {},
   "outputs": [],
   "source": [
    "# Instantiate callbacks\n",
    "callbacks = [\n",
    "    ReduceLROnPlateau(optimizer),\n",
    "    ModelCheckpoint(filepath=os.path.abspath('../../../../models/classification/control/mnist/mnist_4v5_2qubits_r1.pt')),\n",
    "    CSVLogger(os.path.abspath('../../../../models/classification/control/mnist/mnist_4v5_2qubits_r1.csv'))\n",
    "]"
   ]
  },
  {
   "cell_type": "code",
   "execution_count": 16,
   "metadata": {},
   "outputs": [
    {
     "name": "stdout",
     "output_type": "stream",
     "text": [
      "Epoch     Train Loss     Train Accuracy      Val Loss       Val Accuracy        \n",
      "========================================================================\n",
      "1         0.6397         64.24               0.4315         95.10               \n",
      "2         0.4075         95.53               0.3294         99.51               \n",
      "3         0.3287         97.85               0.2741         98.53               \n",
      "4         0.2740         98.43               0.2351         99.51               \n",
      "5         0.2367         98.68               0.2072         99.51               \n"
     ]
    }
   ],
   "source": [
    "# Training parameters\n",
    "train_loss_list = []  # Store training loss history\n",
    "train_accuracy_list = []  # Store training accuracy history\n",
    "val_loss_list = []  # Store validation loss history\n",
    "val_accuracy_list = []  # Store validation accuracy history\n",
    "best_accuracy = 0  # Best accuracy tracker\n",
    "\n",
    "# Print table header\n",
    "print(f\"{'Epoch':<10}{'Train Loss':<15}{'Train Accuracy':<20}{'Val Loss':<15}{'Val Accuracy':<20}\")\n",
    "print(\"=\"*72)\n",
    "\n",
    "# Start training\n",
    "start = timeit.default_timer()  # Total training start time\n",
    "\n",
    "# Start training\n",
    "for epoch in range(EPOCHS):\n",
    "    model.train()  # Set model to training mode\n",
    "    \n",
    "    total_loss = []\n",
    "    correct_predictions = 0\n",
    "    total_samples = 0\n",
    "    \n",
    "    for batch_idx, (data, target) in enumerate(train_loader):\n",
    "        optimizer.zero_grad(set_to_none=True)  # Initialize gradient\n",
    "        \n",
    "        # Forward pass\n",
    "        output = model(data)  # Use model for prediction\n",
    "        loss = loss_func(output, target)  # Calculate loss\n",
    "        \n",
    "        # Backward pass\n",
    "        loss.backward()\n",
    "        optimizer.step()  # Optimize weights\n",
    "        \n",
    "        total_loss.append(loss.item())  # Store loss\n",
    "        \n",
    "        # Calculate training accuracy\n",
    "        predicted = output.argmax(dim=1)  # Get predicted class\n",
    "        correct_predictions += (predicted == target).sum().item()  # Count correct predictions\n",
    "        total_samples += target.size(0)  # Count total samples\n",
    "    \n",
    "    # Calculate average training loss and accuracy\n",
    "    avg_loss = sum(total_loss) / len(total_loss)\n",
    "    training_accuracy = 100 * correct_predictions / total_samples\n",
    "    train_loss_list.append(avg_loss)\n",
    "    train_accuracy_list.append(training_accuracy)\n",
    "    \n",
    "    model.eval()  # Set model to evaluation mode\n",
    "    \n",
    "    accuracy = 0\n",
    "    total_val_loss = []\n",
    "    \n",
    "    with torch.no_grad():\n",
    "        for batch_idx, (data, target) in enumerate(test_loader):\n",
    "            output = model(data)  # Use model for validation\n",
    "            \n",
    "            # Calculate validation loss\n",
    "            val_loss = loss_func(output, target)\n",
    "            total_val_loss.append(val_loss.item())\n",
    "            \n",
    "            # Calculate validation accuracy\n",
    "            predicted = output.argmax(dim=1)  # Get predicted class\n",
    "            accuracy += (predicted == target).sum().item()  # Count correct predictions\n",
    "        \n",
    "        # Calculate average validation loss and accuracy\n",
    "        avg_val_loss = sum(total_val_loss) / len(total_val_loss)\n",
    "        val_loss_list.append(avg_val_loss)\n",
    "        val_accuracy = 100 * accuracy / len(test_loader.dataset)\n",
    "        val_accuracy_list.append(val_accuracy)\n",
    "        \n",
    "        # Callbacks step\n",
    "        for callback in callbacks:\n",
    "            if isinstance(callback, ReduceLROnPlateau):\n",
    "                callback.step(avg_val_loss)\n",
    "            elif isinstance(callback, ModelCheckpoint):\n",
    "                callback.step(avg_val_loss)\n",
    "            elif isinstance(callback, CSVLogger):\n",
    "                callback.log(epoch + 1, avg_loss, training_accuracy, avg_val_loss, val_accuracy)\n",
    "\n",
    "    # Print training and validation metrics in a table format\n",
    "    print(f\"{epoch + 1:<10}{avg_loss:<15.4f}{training_accuracy:<20.2f}{avg_val_loss:<15.4f}{val_accuracy:<20.2f}\")\n",
    "        \n",
    "stop = timeit.default_timer()  "
   ]
  },
  {
   "cell_type": "code",
   "execution_count": 17,
   "metadata": {},
   "outputs": [
    {
     "name": "stdout",
     "output_type": "stream",
     "text": [
      "Total Training Time: 0h 3m 9.43s\n"
     ]
    }
   ],
   "source": [
    "# Calculate total time in seconds\n",
    "total_seconds = stop - start\n",
    "\n",
    "# Convert seconds to hours, minutes, and seconds\n",
    "hours = total_seconds // 3600\n",
    "minutes = (total_seconds % 3600) // 60\n",
    "seconds = total_seconds % 60\n",
    "\n",
    "# Print the formatted time\n",
    "print(f\"Total Training Time: {int(hours)}h {int(minutes)}m {seconds:.2f}s\")"
   ]
  },
  {
   "cell_type": "code",
   "execution_count": 18,
   "metadata": {},
   "outputs": [
    {
     "name": "stderr",
     "output_type": "stream",
     "text": [
      "No gradient function provided, creating a gradient function. If your Estimator requires transpilation, please provide a pass manager.\n"
     ]
    },
    {
     "data": {
      "text/plain": [
       "Net(\n",
       "  (conv1): Conv2d(1, 2, kernel_size=(5, 5), stride=(1, 1))\n",
       "  (conv2): Conv2d(2, 24, kernel_size=(5, 5), stride=(1, 1))\n",
       "  (dropout): Dropout2d(p=0.5, inplace=False)\n",
       "  (fc1): Linear(in_features=384, out_features=128, bias=True)\n",
       "  (fc2): Linear(in_features=128, out_features=2, bias=True)\n",
       "  (qnn): TorchConnector()\n",
       "  (fc3): Linear(in_features=1, out_features=1, bias=True)\n",
       ")"
      ]
     },
     "execution_count": 18,
     "metadata": {},
     "output_type": "execute_result"
    }
   ],
   "source": [
    "qnn, _ = create_qnn(NUM_OF_QUBITS)\n",
    "model = Net(qnn, IMAGE_SIZE, NUM_OF_QUBITS)\n",
    "model.load_state_dict(torch.load(\"../../../../models/classification/control/mnist/mnist_4v5_2qubits_r1.pt\", weights_only=True))\n",
    "model.eval()  # set model to evaluation mode"
   ]
  },
  {
   "cell_type": "code",
   "execution_count": 19,
   "metadata": {},
   "outputs": [],
   "source": [
    "# Initialize lists to store true labels and predictions\n",
    "y_true = []\n",
    "y_pred = []\n",
    "predictions = []\n",
    "\n",
    "with torch.no_grad():\n",
    "    total_loss = []\n",
    "    correct = 0\n",
    "\n",
    "    for batch_idx, (data, target) in enumerate(test_loader):\n",
    "        output = model(data)\n",
    "        \n",
    "        # Ensure output has the correct shape\n",
    "        if len(output.shape) == 1:\n",
    "            output = output.reshape(1, *output.shape)\n",
    "\n",
    "        # Apply softmax to get probabilities\n",
    "        softmax_output = F.softmax(output, dim=1)  # Apply softmax along class dimension\n",
    "\n",
    "        # Use softmax_output for probabilities\n",
    "        predictions.extend(softmax_output.cpu().numpy())  # Collect probabilities (output after softmax)\n",
    "\n",
    "        # Get the predicted class by taking the argmax of the softmax output\n",
    "        pred = softmax_output.argmax(dim=1, keepdim=True)\n",
    "        y_pred.extend(pred.cpu().numpy())  # Collect predictions (the class with the highest probability)\n",
    "        y_true.extend(target.cpu().numpy())  # Collect true labels\n",
    "        \n",
    "        correct += pred.eq(target.view_as(pred)).sum().item()\n",
    "        loss = loss_func(output, target)\n",
    "        total_loss.append(loss.item())"
   ]
  },
  {
   "cell_type": "code",
   "execution_count": 20,
   "metadata": {},
   "outputs": [],
   "source": [
    "def to_categorical(y, num_classes):\n",
    "    \"\"\" 1-hot encoding \"\"\"\n",
    "    return np.eye(num_classes, dtype='uint8')[y]"
   ]
  },
  {
   "cell_type": "code",
   "execution_count": 21,
   "metadata": {},
   "outputs": [],
   "source": [
    "# y_true\n",
    "y_true = to_categorical(y_true, 2)\n",
    "\n",
    "# y_true_flat\n",
    "y_true_flat = np.argmax(y_true, axis=-1)"
   ]
  },
  {
   "cell_type": "code",
   "execution_count": 22,
   "metadata": {},
   "outputs": [],
   "source": [
    "# y_pred\n",
    "y_pred = np.array(predictions)\n",
    "\n",
    "# y_pred_flat\n",
    "y_pred_flat = np.argmax(predictions, axis=-1)"
   ]
  },
  {
   "cell_type": "code",
   "execution_count": 23,
   "metadata": {},
   "outputs": [
    {
     "name": "stdout",
     "output_type": "stream",
     "text": [
      "Positive Class AUC:  100.00%\n",
      "Negative Class AUC:  100.00%\n",
      "Average AUC:  100.00%\n"
     ]
    }
   ],
   "source": [
    "############## ROC AUC ##############\n",
    "neg_cls = 0 # nondemented\n",
    "pos_cls = 1 # moderate_dementia\n",
    "\n",
    "print(\"Positive Class AUC: \", '{0:.2f}%'.format(roc_auc_score(y_true[:, pos_cls], y_pred[:, pos_cls])*100))\n",
    "print(\"Negative Class AUC: \", '{0:.2f}%'.format(roc_auc_score(y_true[:, neg_cls], y_pred[:, neg_cls])*100))\n",
    "print(\"Average AUC: \", '{0:.2f}%'.format(roc_auc_score(y_true, y_pred)*100))"
   ]
  },
  {
   "cell_type": "code",
   "execution_count": 24,
   "metadata": {},
   "outputs": [
    {
     "data": {
      "image/png": "[encoded data removed]",
      "text/plain": [
       "<Figure size 500x400 with 1 Axes>"
      ]
     },
     "metadata": {},
     "output_type": "display_data"
    }
   ],
   "source": [
    "# Set Seaborn style\n",
    "sns.set_style(\"white\")\n",
    "\n",
    "fig, ax = plt.subplots(figsize=(5, 4))\n",
    "\n",
    "# Compute the ROC curve and AUC for each class\n",
    "fpr_pos_cls, tpr_pos_cls, _ = roc_curve(y_true[:, pos_cls], y_pred[:, pos_cls])\n",
    "auc_pos_cls = auc(fpr_pos_cls, tpr_pos_cls)\n",
    "\n",
    "fpr_neg_cls, tpr_neg_cls, _ = roc_curve(y_true[:, neg_cls], y_pred[:, neg_cls])\n",
    "auc_neg_cls = auc(fpr_neg_cls, tpr_neg_cls)\n",
    "\n",
    "# Plot the ROC curves\n",
    "ax.plot(fpr_pos_cls, tpr_pos_cls, color=\"orange\", label=f\"nondemented (AUC = {auc_pos_cls:.2%})\")\n",
    "ax.plot(fpr_neg_cls, tpr_neg_cls, color=\"purple\", label=f\"moderate_dementia (AUC = {auc_neg_cls:.2%})\")\n",
    "\n",
    "# Customize the ticks and labels on the axes\n",
    "ax.xaxis.set_major_formatter(mticker.PercentFormatter(xmax=1, decimals=1))\n",
    "ax.yaxis.set_major_formatter(mticker.PercentFormatter(xmax=1, decimals=1))\n",
    "\n",
    "# Add the diagonal line, labels, title, and legend\n",
    "plt.plot([0, 1], [0, 1], \"k--\")\n",
    "plt.xlabel(\"False Positive Rate\", fontsize='12')\n",
    "plt.ylabel(\"True Positive Rate\", fontsize='12')\n",
    "plt.title(\"3-plane (3-qubits)\", fontsize='12')\n",
    "plt.legend(fontsize='11')\n",
    "plt.show()"
   ]
  },
  {
   "cell_type": "code",
   "execution_count": 25,
   "metadata": {},
   "outputs": [
    {
     "name": "stdout",
     "output_type": "stream",
     "text": [
      "\n",
      "Classification Report:\n",
      "              precision    recall  f1-score   support\n",
      "\n",
      "           2       1.00      0.99      1.00       104\n",
      "           3       0.99      1.00      1.00       100\n",
      "\n",
      "    accuracy                           1.00       204\n",
      "   macro avg       1.00      1.00      1.00       204\n",
      "weighted avg       1.00      1.00      1.00       204\n",
      "\n"
     ]
    }
   ],
   "source": [
    "############## Classification Report ##############\n",
    "targetnames = ['2', '3']\n",
    "\n",
    "report = classification_report(y_true_flat, y_pred_flat, target_names=targetnames)\n",
    "\n",
    "print(\"\\nClassification Report:\")\n",
    "print(report)"
   ]
  },
  {
   "cell_type": "code",
   "execution_count": 26,
   "metadata": {},
   "outputs": [
    {
     "data": {
      "text/html": [
       "<style type=\"text/css\">\n",
       "</style>\n",
       "<table id=\"T_a2ab4\">\n",
       "  <thead>\n",
       "    <tr>\n",
       "      <th id=\"T_a2ab4_level0_col0\" class=\"col_heading level0 col0\" >Precision (%)</th>\n",
       "      <th id=\"T_a2ab4_level0_col1\" class=\"col_heading level0 col1\" >Recall (%)</th>\n",
       "      <th id=\"T_a2ab4_level0_col2\" class=\"col_heading level0 col2\" >F1-Score (%)</th>\n",
       "      <th id=\"T_a2ab4_level0_col3\" class=\"col_heading level0 col3\" >Accuracy (%)</th>\n",
       "      <th id=\"T_a2ab4_level0_col4\" class=\"col_heading level0 col4\" >Sensitivity (%)</th>\n",
       "      <th id=\"T_a2ab4_level0_col5\" class=\"col_heading level0 col5\" >Specificity (%)</th>\n",
       "      <th id=\"T_a2ab4_level0_col6\" class=\"col_heading level0 col6\" >TN</th>\n",
       "      <th id=\"T_a2ab4_level0_col7\" class=\"col_heading level0 col7\" >FP</th>\n",
       "      <th id=\"T_a2ab4_level0_col8\" class=\"col_heading level0 col8\" >FN</th>\n",
       "      <th id=\"T_a2ab4_level0_col9\" class=\"col_heading level0 col9\" >TP</th>\n",
       "    </tr>\n",
       "  </thead>\n",
       "  <tbody>\n",
       "    <tr>\n",
       "      <td id=\"T_a2ab4_row0_col0\" class=\"data row0 col0\" >99.01</td>\n",
       "      <td id=\"T_a2ab4_row0_col1\" class=\"data row0 col1\" >100.00</td>\n",
       "      <td id=\"T_a2ab4_row0_col2\" class=\"data row0 col2\" >99.50</td>\n",
       "      <td id=\"T_a2ab4_row0_col3\" class=\"data row0 col3\" >99.51</td>\n",
       "      <td id=\"T_a2ab4_row0_col4\" class=\"data row0 col4\" >100.00</td>\n",
       "      <td id=\"T_a2ab4_row0_col5\" class=\"data row0 col5\" >99.04</td>\n",
       "      <td id=\"T_a2ab4_row0_col6\" class=\"data row0 col6\" >103</td>\n",
       "      <td id=\"T_a2ab4_row0_col7\" class=\"data row0 col7\" >1</td>\n",
       "      <td id=\"T_a2ab4_row0_col8\" class=\"data row0 col8\" >0</td>\n",
       "      <td id=\"T_a2ab4_row0_col9\" class=\"data row0 col9\" >100</td>\n",
       "    </tr>\n",
       "  </tbody>\n",
       "</table>\n"
      ],
      "text/plain": [
       "<pandas.io.formats.style.Styler at 0x27fdfd05760>"
      ]
     },
     "execution_count": 26,
     "metadata": {},
     "output_type": "execute_result"
    }
   ],
   "source": [
    "TN, FP, FN, TP = confusion_matrix(y_true_flat, y_pred_flat).ravel()\n",
    "\n",
    "sensitivity = '{0:.2f}'.format(TP/(TP+FN)*100)\n",
    "specificity = '{0:.2f}'.format(TN/(TN+FP)*100)\n",
    "    \n",
    "precision = '{0:.2f}'.format(precision_score(y_true_flat, y_pred_flat)*100)\n",
    "recall = '{0:.2f}'.format(recall_score(y_true_flat, y_pred_flat)*100)\n",
    "f1 = '{0:.2f}'.format(f1_score(y_true_flat, y_pred_flat)*100)\n",
    "accuracy = '{0:.2f}'.format(accuracy_score(y_true_flat, y_pred_flat)*100)\n",
    "\n",
    "matrix_log = [[precision, recall, f1, accuracy, sensitivity, specificity, TN, FP, FN, TP]]\n",
    "df_result = pd.DataFrame(\n",
    "    matrix_log, \n",
    "    columns=[\n",
    "        'Precision (%)',\n",
    "        'Recall (%)', \n",
    "        'F1-Score (%)',\n",
    "        'Accuracy (%)', \n",
    "        'Sensitivity (%)', \n",
    "        'Specificity (%)',\n",
    "        'TN',\n",
    "        'FP', \n",
    "        'FN', \n",
    "        'TP'\n",
    "    ])\n",
    "\n",
    "df_result = df_result.style.hide(axis='index')\n",
    "df_result"
   ]
  },
  {
   "cell_type": "code",
   "execution_count": 27,
   "metadata": {},
   "outputs": [
    {
     "data": {
      "image/png": "[encoded data removed]",
      "text/plain": [
       "<Figure size 640x480 with 2 Axes>"
      ]
     },
     "metadata": {},
     "output_type": "display_data"
    }
   ],
   "source": [
    "cnf_matrix = confusion_matrix(y_true_flat, y_pred_flat)\n",
    "\n",
    "group_names = ['TN','FP','FN','TP']\n",
    "group_counts = [\"{0:0.0f}\".format(value) for value in cnf_matrix.flatten()]\n",
    "group_percentages = [\"{0:.2%}\".format(value) for value in cnf_matrix.flatten()/np.sum(cnf_matrix)]\n",
    "\n",
    "labels = [f\"{v1}\\n{v2}\\n{v3}\" for v1, v2, v3 in zip(group_names, group_counts, group_percentages)]\n",
    "\n",
    "matrix_labels = np.asarray(labels).reshape(2,2)\n",
    "axis_labels = ['2', '3']\n",
    "\n",
    "ax = sns.heatmap(\n",
    "    cnf_matrix, \n",
    "    annot=matrix_labels, \n",
    "    fmt='',  \n",
    "    cmap='binary', \n",
    "    linewidths=0.1, \n",
    "    linecolor='gray',\n",
    "    xticklabels=axis_labels, \n",
    "    yticklabels=axis_labels\n",
    ")\n",
    "\n",
    "sns_figure = ax.set(xlabel='Predicted label', ylabel='True label', title='4v5 (2-qubits)')"
   ]
  }
 ],
 "metadata": {
  "kaggle": {
   "accelerator": "none",
   "dataSources": [],
   "dockerImageVersionId": 31089,
   "isGpuEnabled": false,
   "isInternetEnabled": true,
   "language": "python",
   "sourceType": "notebook"
  },
  "kernelspec": {
   "display_name": "Python (cqcnn)",
   "language": "python",
   "name": "cqcnn"
  },
  "language_info": {
   "codemirror_mode": {
    "name": "ipython",
    "version": 3
   },
   "file_extension": ".py",
   "mimetype": "text/x-python",
   "name": "python",
   "nbconvert_exporter": "python",
   "pygments_lexer": "ipython3",
   "version": "3.12.11"
  }
 },
 "nbformat": 4,
 "nbformat_minor": 4
}
